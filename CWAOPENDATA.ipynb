{
 "cells": [
  {
   "cell_type": "code",
   "execution_count": null,
   "id": "9c1089e9-977d-47a9-8919-580f2ed99806",
   "metadata": {},
   "outputs": [],
   "source": [
    "import requests\n",
    "import lxml\n",
    "from bs4 import BeautifulSoup\n",
    "# 測站 ID 查詢： https://e-service.cwa.gov.tw/wdps/obs/state.htm\n",
    "stations = ['C0AJ80','C0AD40','C0A520']\n",
    "tmp_str=''\n",
    "for ele in stations:\n",
    "    tmp_str = ele + ',' +tmp_str\n",
    "print(tmp_str)\n",
    "# using CWA API url [ O-A0001-001無人自動測站 ]:\n",
    "# https://opendata.cwa.gov.tw/api/v1/rest/datastore/O-A0001-001?Authorization={my-token}&format=XML&StationId=C0AJ80\n",
    "# return as XML format."
   ]
  },
  {
   "cell_type": "code",
   "execution_count": null,
   "id": "83d583b1-6e0e-4f20-9881-0de9a7d04b99",
   "metadata": {},
   "outputs": [],
   "source": [
    "f=open(\"cwa.token.txt\",'r')\n",
    "get_token_from_file = f.readlines()[0].strip(\"\\n\").split(\"=\")[1]\n",
    "print(get_token_from_file)\n",
    "f.close()"
   ]
  },
  {
   "cell_type": "code",
   "execution_count": null,
   "id": "502101a6-296f-4f7f-812c-78a709b9fb26",
   "metadata": {},
   "outputs": [],
   "source": [
    "print(tmp_str)\n",
    "api_url=\"https://opendata.cwa.gov.tw/api/v1/rest/datastore/O-A0001-001?Authorization={}&format=XML&StationId={}\".format(get_token_from_file,tmp_str)\n",
    "result = requests.get(api_url)\n",
    "soup = BeautifulSoup(result.text,\"xml\")\n",
    "# print(soup)"
   ]
  },
  {
   "cell_type": "code",
   "execution_count": null,
   "id": "123271b9-59fc-40e5-97b1-a407c4be5ea9",
   "metadata": {
    "scrolled": true
   },
   "outputs": [],
   "source": [
    "fields=[]\n",
    "for ele in soup.select(\"fields id\"):\n",
    "    print(ele.text)\n",
    "    fields.append(ele.text)\n",
    "    print(soup.select(\"records\")[0].select(ele.text))\n",
    "# print(fields)"
   ]
  },
  {
   "cell_type": "code",
   "execution_count": null,
   "id": "28854772-3e05-4912-bffd-6a0b9a6add48",
   "metadata": {},
   "outputs": [],
   "source": [
    "for station in stations:\n",
    "    CountyName = soup.select(\"stations\")[stations.index(station)].select(\"CountyName\")[0].text\n",
    "    StationName = soup.select(\"stations\")[stations.index(station)].select(\"StationName\")[0].text\n",
    "    StationId = soup.select(\"stations\")[stations.index(station)].select(\"StationId\")[0].text\n",
    "    print(\"{} 測站名= {}, id= {}\".format(CountyName, StationName, StationId))\n",
    "\n",
    "    WGS84_StationLatitude = soup.select(\"stations\")[stations.index(station)].select(\"GeoInfo\")[0].select(\"Coordinates\")[1].select(\"StationLatitude\")[0].text\n",
    "    WGS84_StationLongitude = soup.select(\"stations\")[stations.index(station)].select(\"GeoInfo\")[0].select(\"Coordinates\")[1].select(\"StationLongitude\")[0].text\n",
    "    print(\"測站經緯度 [WGS84]\",WGS84_StationLatitude, WGS84_StationLongitude)\n",
    "\n",
    "    StationAltitude = soup.select(\"stations\")[stations.index(station)].select(\"GeoInfo\")[0].select(\"StationAltitude\")[0].text\n",
    "    print(\"測站高度 {}m\".format(StationAltitude))\n",
    "\n",
    "    AirTemperature = soup.select(\"stations\")[stations.index(station)].select(\"AirTemperature\")[0].text\n",
    "    RelativeHumidity = soup.select(\"stations\")[stations.index(station)].select(\"RelativeHumidity\")[0].text\n",
    "    AirPressure = soup.select(\"stations\")[stations.index(station)].select(\"AirPressure\")[0].text\n",
    "\n",
    "    print(\"測站氣壓 {}hPa, 溫度 {}DEG C, 濕度 {}%\".format(AirPressure, AirTemperature, RelativeHumidity))\n",
    "\n",
    "    DateTime = soup.select(\"stations\")[stations.index(station)].select(\"ObsTime\")[0].select(\"DateTime\")[0].text\n",
    "    print(\"觀測時間 {}\".format(DateTime))\n",
    "    print(\"=\"*32)"
   ]
  },
  {
   "cell_type": "code",
   "execution_count": null,
   "id": "7c4a60de",
   "metadata": {},
   "outputs": [],
   "source": []
  },
  {
   "cell_type": "code",
   "execution_count": null,
   "id": "f5031d4f",
   "metadata": {},
   "outputs": [],
   "source": []
  },
  {
   "cell_type": "code",
   "execution_count": null,
   "id": "2dd36b22",
   "metadata": {},
   "outputs": [],
   "source": []
  },
  {
   "cell_type": "code",
   "execution_count": null,
   "id": "fca037a4",
   "metadata": {},
   "outputs": [],
   "source": []
  },
  {
   "cell_type": "code",
   "execution_count": null,
   "id": "d8dbff84",
   "metadata": {},
   "outputs": [],
   "source": []
  },
  {
   "cell_type": "code",
   "execution_count": null,
   "id": "b276c2ad",
   "metadata": {},
   "outputs": [],
   "source": []
  }
 ],
 "metadata": {
  "kernelspec": {
   "display_name": "Python 3 (ipykernel)",
   "language": "python",
   "name": "python3"
  },
  "language_info": {
   "codemirror_mode": {
    "name": "ipython",
    "version": 3
   },
   "file_extension": ".py",
   "mimetype": "text/x-python",
   "name": "python",
   "nbconvert_exporter": "python",
   "pygments_lexer": "ipython3",
   "version": "3.11.2"
  }
 },
 "nbformat": 4,
 "nbformat_minor": 5
}
